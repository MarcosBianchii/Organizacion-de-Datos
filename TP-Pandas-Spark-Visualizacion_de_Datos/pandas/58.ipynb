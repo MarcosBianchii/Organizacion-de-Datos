{
  "cells": [
    {
      "attachments": {},
      "cell_type": "markdown",
      "metadata": {},
      "source": [
        "# Observe una muestra aleatoria de los comentarios de las acciones realizadas por usuarios o ips antes de ser bloqueados. Observe otra muestra de comentarios de acciones de todos. (⭐⭐)"
      ]
    },
    {
      "cell_type": "code",
      "execution_count": 1,
      "metadata": {
        "colab": {
          "base_uri": "https://localhost:8080/",
          "height": 423
        },
        "id": "4iIlFK0XyVcT",
        "outputId": "7b463a40-87ac-497b-ce5d-d3a994de8f4d"
      },
      "outputs": [
        {
          "data": {
            "text/html": [
              "<div>\n",
              "<style scoped>\n",
              "    .dataframe tbody tr th:only-of-type {\n",
              "        vertical-align: middle;\n",
              "    }\n",
              "\n",
              "    .dataframe tbody tr th {\n",
              "        vertical-align: top;\n",
              "    }\n",
              "\n",
              "    .dataframe thead th {\n",
              "        text-align: right;\n",
              "    }\n",
              "</style>\n",
              "<table border=\"1\" class=\"dataframe\">\n",
              "  <thead>\n",
              "    <tr style=\"text-align: right;\">\n",
              "      <th></th>\n",
              "      <th>contributor_username</th>\n",
              "      <th>contributor_ip</th>\n",
              "      <th>comment</th>\n",
              "      <th>action</th>\n",
              "      <th>title</th>\n",
              "    </tr>\n",
              "  </thead>\n",
              "  <tbody>\n",
              "    <tr>\n",
              "      <th>0</th>\n",
              "      <td>Sabbut</td>\n",
              "      <td>NaN</td>\n",
              "      <td>el contenido era: 'Si aprendés Pensamiento Cie...</td>\n",
              "      <td>delete</td>\n",
              "      <td>Verificacionismo</td>\n",
              "    </tr>\n",
              "    <tr>\n",
              "      <th>1</th>\n",
              "      <td>Sabbut</td>\n",
              "      <td>NaN</td>\n",
              "      <td>el contenido era: '{{destruir}}en algun lugar ...</td>\n",
              "      <td>delete</td>\n",
              "      <td>Rapunzel</td>\n",
              "    </tr>\n",
              "    <tr>\n",
              "      <th>2</th>\n",
              "      <td>Sabbut</td>\n",
              "      <td>NaN</td>\n",
              "      <td>el contenido era: '#REDIRECT [[Flash]]'</td>\n",
              "      <td>delete</td>\n",
              "      <td>Macromedia Flash</td>\n",
              "    </tr>\n",
              "    <tr>\n",
              "      <th>3</th>\n",
              "      <td>Sanbec</td>\n",
              "      <td>NaN</td>\n",
              "      <td>Sin información de origen ni de licencia. Hay ...</td>\n",
              "      <td>delete</td>\n",
              "      <td>Archivo:Gnu head.png</td>\n",
              "    </tr>\n",
              "    <tr>\n",
              "      <th>4</th>\n",
              "      <td>Sanbec</td>\n",
              "      <td>NaN</td>\n",
              "      <td>Sustituida por  [[commons:Image:Heckert_GNU.png]]</td>\n",
              "      <td>delete</td>\n",
              "      <td>Archivo:Gnu-head-sm.jpg</td>\n",
              "    </tr>\n",
              "    <tr>\n",
              "      <th>...</th>\n",
              "      <td>...</td>\n",
              "      <td>...</td>\n",
              "      <td>...</td>\n",
              "      <td>...</td>\n",
              "      <td>...</td>\n",
              "    </tr>\n",
              "    <tr>\n",
              "      <th>12188941</th>\n",
              "      <td>SeroBOT</td>\n",
              "      <td>NaN</td>\n",
              "      <td>Aviso de pruebas a usuario tras reversiones co...</td>\n",
              "      <td>create</td>\n",
              "      <td>Usuario discusión:El guachicol</td>\n",
              "    </tr>\n",
              "    <tr>\n",
              "      <th>12188942</th>\n",
              "      <td>Leonpolanco</td>\n",
              "      <td>NaN</td>\n",
              "      <td>Página creada con «{{subst:Aviso prueba2|Luis ...</td>\n",
              "      <td>create</td>\n",
              "      <td>Usuario discusión:2806:2F0:3140:BE0:C09B:D1C4:...</td>\n",
              "    </tr>\n",
              "    <tr>\n",
              "      <th>12188943</th>\n",
              "      <td>Desiretjs</td>\n",
              "      <td>NaN</td>\n",
              "      <td>NaN</td>\n",
              "      <td>create</td>\n",
              "      <td>Usuario:Desiretjs</td>\n",
              "    </tr>\n",
              "    <tr>\n",
              "      <th>12188944</th>\n",
              "      <td>Correogsk</td>\n",
              "      <td>NaN</td>\n",
              "      <td>Página redirigida a [[Contenedor]]</td>\n",
              "      <td>create</td>\n",
              "      <td>Contenedores</td>\n",
              "    </tr>\n",
              "    <tr>\n",
              "      <th>12188945</th>\n",
              "      <td>Liza.amane</td>\n",
              "      <td>NaN</td>\n",
              "      <td>NaN</td>\n",
              "      <td>create</td>\n",
              "      <td>Usuario:Liza.amane</td>\n",
              "    </tr>\n",
              "  </tbody>\n",
              "</table>\n",
              "<p>12188946 rows × 5 columns</p>\n",
              "</div>"
            ],
            "text/plain": [
              "         contributor_username contributor_ip  \\\n",
              "0                      Sabbut            NaN   \n",
              "1                      Sabbut            NaN   \n",
              "2                      Sabbut            NaN   \n",
              "3                      Sanbec            NaN   \n",
              "4                      Sanbec            NaN   \n",
              "...                       ...            ...   \n",
              "12188941              SeroBOT            NaN   \n",
              "12188942          Leonpolanco            NaN   \n",
              "12188943            Desiretjs            NaN   \n",
              "12188944            Correogsk            NaN   \n",
              "12188945           Liza.amane            NaN   \n",
              "\n",
              "                                                    comment  action  \\\n",
              "0         el contenido era: 'Si aprendés Pensamiento Cie...  delete   \n",
              "1         el contenido era: '{{destruir}}en algun lugar ...  delete   \n",
              "2                   el contenido era: '#REDIRECT [[Flash]]'  delete   \n",
              "3         Sin información de origen ni de licencia. Hay ...  delete   \n",
              "4         Sustituida por  [[commons:Image:Heckert_GNU.png]]  delete   \n",
              "...                                                     ...     ...   \n",
              "12188941  Aviso de pruebas a usuario tras reversiones co...  create   \n",
              "12188942  Página creada con «{{subst:Aviso prueba2|Luis ...  create   \n",
              "12188943                                                NaN  create   \n",
              "12188944                 Página redirigida a [[Contenedor]]  create   \n",
              "12188945                                                NaN  create   \n",
              "\n",
              "                                                      title  \n",
              "0                                          Verificacionismo  \n",
              "1                                                  Rapunzel  \n",
              "2                                          Macromedia Flash  \n",
              "3                                      Archivo:Gnu head.png  \n",
              "4                                   Archivo:Gnu-head-sm.jpg  \n",
              "...                                                     ...  \n",
              "12188941                     Usuario discusión:El guachicol  \n",
              "12188942  Usuario discusión:2806:2F0:3140:BE0:C09B:D1C4:...  \n",
              "12188943                                  Usuario:Desiretjs  \n",
              "12188944                                       Contenedores  \n",
              "12188945                                 Usuario:Liza.amane  \n",
              "\n",
              "[12188946 rows x 5 columns]"
            ]
          },
          "execution_count": 1,
          "metadata": {},
          "output_type": "execute_result"
        }
      ],
      "source": [
        "import pandas as pd\n",
        "logs = pd.read_csv('../data/logs.csv', low_memory=False, usecols=['contributor_username','contributor_ip','comment','action','title'])\n",
        "logs"
      ]
    },
    {
      "cell_type": "code",
      "execution_count": 2,
      "metadata": {
        "colab": {
          "base_uri": "https://localhost:8080/"
        },
        "id": "6StupsLbZCpK",
        "outputId": "85ababff-3b31-4c7c-a337-f4afcc378d4a"
      },
      "outputs": [
        {
          "name": "stdout",
          "output_type": "stream",
          "text": [
            "<class 'pandas.core.frame.DataFrame'>\n",
            "RangeIndex: 12188946 entries, 0 to 12188945\n",
            "Data columns (total 5 columns):\n",
            " #   Column                Dtype \n",
            "---  ------                ----- \n",
            " 0   contributor_username  object\n",
            " 1   contributor_ip        object\n",
            " 2   comment               object\n",
            " 3   action                object\n",
            " 4   title                 object\n",
            "dtypes: object(5)\n",
            "memory usage: 465.0+ MB\n"
          ]
        },
        {
          "data": {
            "text/plain": [
              "Index                        132\n",
              "contributor_username    97511568\n",
              "contributor_ip          97511568\n",
              "comment                 97511568\n",
              "action                  97511568\n",
              "title                   97511568\n",
              "dtype: int64"
            ]
          },
          "execution_count": 2,
          "metadata": {},
          "output_type": "execute_result"
        }
      ],
      "source": [
        "logs.info()\n",
        "logs.memory_usage()"
      ]
    },
    {
      "cell_type": "code",
      "execution_count": 3,
      "metadata": {
        "id": "5UQnN6czRgpT"
      },
      "outputs": [],
      "source": [
        "# Cambio los nombres de algunas columnas.\n",
        "logs.rename(columns={'contributor_username':'user','contributor_id':'id','contributor_ip':'ip','comment':'comentario','action':'accion','title':'titulo'}, inplace=True)"
      ]
    },
    {
      "cell_type": "code",
      "execution_count": 4,
      "metadata": {
        "colab": {
          "base_uri": "https://localhost:8080/"
        },
        "id": "aFOcIl7NRhH-",
        "outputId": "31a0cab1-5857-480f-c7ed-8f0015bd28bb"
      },
      "outputs": [
        {
          "data": {
            "text/plain": [
              "array(['delete', 'block', 'upload', 'protect', 'restore', 'unblock',\n",
              "       'unprotect', 'rights', 'move', 'move_redir', nan, 'renameuser',\n",
              "       'newusers', 'create', 'create2', 'modify', 'patrol', 'autocreate',\n",
              "       'usergroups', 'move_prot', 'reblock', 'event', 'revision',\n",
              "       'interwiki', 'byemail', 'thank', 'add', 'update', 'remove',\n",
              "       'selfadd', 'selfremove', 'review', 'failure', 'skipbadns', 'send',\n",
              "       'unreview', 'skipnouser', 'profilesave', 'undelete', 'merge',\n",
              "       'mergeuser', 'deleteuser', 'delete_redir', 'whitelist', 'change',\n",
              "       'new', 'addlink'], dtype=object)"
            ]
          },
          "execution_count": 4,
          "metadata": {},
          "output_type": "execute_result"
        }
      ],
      "source": [
        "# Contiene un campo nan.\n",
        "logs.accion.unique()"
      ]
    },
    {
      "cell_type": "code",
      "execution_count": 5,
      "metadata": {
        "colab": {
          "base_uri": "https://localhost:8080/"
        },
        "id": "bBpJJ0SoRhL7",
        "outputId": "1668252e-099f-4b51-cd8e-0b2732b6e8eb"
      },
      "outputs": [
        {
          "data": {
            "text/plain": [
              "array(['delete', 'block', 'upload', 'protect', 'restore', 'unblock',\n",
              "       'unprotect', 'rights', 'move', 'move_redir', 'renameuser',\n",
              "       'newusers', 'create', 'create2', 'modify', 'patrol', 'autocreate',\n",
              "       'usergroups', 'move_prot', 'reblock', 'event', 'revision',\n",
              "       'interwiki', 'byemail', 'thank', 'add', 'update', 'remove',\n",
              "       'selfadd', 'selfremove', 'review', 'failure', 'skipbadns', 'send',\n",
              "       'unreview', 'skipnouser', 'profilesave', 'undelete', 'merge',\n",
              "       'mergeuser', 'deleteuser', 'delete_redir', 'whitelist', 'change',\n",
              "       'new', 'addlink'], dtype=object)"
            ]
          },
          "execution_count": 5,
          "metadata": {},
          "output_type": "execute_result"
        }
      ],
      "source": [
        "# Saco las acciones nan.\n",
        "logs = logs[logs.accion.astype('str') != 'nan']\n",
        "logs.accion.unique()"
      ]
    },
    {
      "cell_type": "code",
      "execution_count": 6,
      "metadata": {
        "colab": {
          "base_uri": "https://localhost:8080/"
        },
        "id": "AgnKyJHQRhPk",
        "outputId": "21123ba7-d476-4f1c-d5dc-8eb42fbc707a"
      },
      "outputs": [
        {
          "name": "stderr",
          "output_type": "stream",
          "text": [
            "/tmp/ipykernel_4556/2926908645.py:2: SettingWithCopyWarning: \n",
            "A value is trying to be set on a copy of a slice from a DataFrame.\n",
            "Try using .loc[row_indexer,col_indexer] = value instead\n",
            "\n",
            "See the caveats in the documentation: https://pandas.pydata.org/pandas-docs/stable/user_guide/indexing.html#returning-a-view-versus-a-copy\n",
            "  logs.comentario = logs.comentario.astype('str')\n",
            "/tmp/ipykernel_4556/2926908645.py:3: SettingWithCopyWarning: \n",
            "A value is trying to be set on a copy of a slice from a DataFrame.\n",
            "Try using .loc[row_indexer,col_indexer] = value instead\n",
            "\n",
            "See the caveats in the documentation: https://pandas.pydata.org/pandas-docs/stable/user_guide/indexing.html#returning-a-view-versus-a-copy\n",
            "  logs.accion = logs.accion.astype('category')\n",
            "/tmp/ipykernel_4556/2926908645.py:4: SettingWithCopyWarning: \n",
            "A value is trying to be set on a copy of a slice from a DataFrame.\n",
            "Try using .loc[row_indexer,col_indexer] = value instead\n",
            "\n",
            "See the caveats in the documentation: https://pandas.pydata.org/pandas-docs/stable/user_guide/indexing.html#returning-a-view-versus-a-copy\n",
            "  logs.titulo = logs.titulo.astype('str')\n"
          ]
        },
        {
          "data": {
            "text/plain": [
              "Index         97511552\n",
              "user          97511552\n",
              "ip            97511552\n",
              "comentario    97511552\n",
              "accion        12190384\n",
              "titulo        97511552\n",
              "dtype: int64"
            ]
          },
          "execution_count": 6,
          "metadata": {},
          "output_type": "execute_result"
        }
      ],
      "source": [
        "# Cambio el dtype de algunas columnas para ocupar menos memoria.\n",
        "logs.comentario = logs.comentario.astype('str')\n",
        "logs.accion = logs.accion.astype('category')\n",
        "logs.titulo = logs.titulo.astype('str')\n",
        "logs.memory_usage()"
      ]
    },
    {
      "cell_type": "code",
      "execution_count": 7,
      "metadata": {
        "colab": {
          "base_uri": "https://localhost:8080/"
        },
        "id": "7I00J7aMRhTA",
        "outputId": "1b5556d4-92a6-4f9e-e76d-b7bef497328e"
      },
      "outputs": [
        {
          "data": {
            "text/plain": [
              "0     el contenido era: 'Si aprendés Pensamiento Cie...\n",
              "1     el contenido era: '{{destruir}}en algun lugar ...\n",
              "2               el contenido era: '#REDIRECT [[Flash]]'\n",
              "3     Sin información de origen ni de licencia. Hay ...\n",
              "4     Sustituida por  [[commons:Image:Heckert_GNU.png]]\n",
              "5                                    vandalismo grosero\n",
              "6     Logotipo Comuna de La Florida, derecho público...\n",
              "7     Fotografía aérea instantánea de los videos de ...\n",
              "8         Pablo Zalaquett, Alcalde de La Florida {{PD}}\n",
              "9                                       Está en commons\n",
              "10    el contenido era: ''''Pueblo''' de 1200 habita...\n",
              "11    el contenido era: '#REDIRECT [[Ayerbe (Huesca)]]'\n",
              "12                                    tags pasivos RFID\n",
              "13    reparando un aparente problema de la base de d...\n",
              "14                                              Copyvio\n",
              "15    el contenido era: '{{destruir}}' anteriormente...\n",
              "16                     el contenido era: '{{destruir}}'\n",
              "17                     el contenido era: '{{destruir}}'\n",
              "18              el contenido era: '* [[Daniel Pennac]]'\n",
              "19                     el contenido era: '{{destruir}}'\n",
              "20            el contenido era: 'primera internacional'\n",
              "21          el contenido era: 'ritmo hecho con la boca'\n",
              "22                     el contenido era: '{{destruir}}'\n",
              "23    Error en título, el contenido era: '1 REDIRECT...\n",
              "24    el contenido era: 'Compositor argentino de mús...\n",
              "25    el contenido era: 'Natural de [[Ucrania]]{{min...\n",
              "26    el contenido era: ''''Nacida en la provincia d...\n",
              "27    Error en título, el contenido era: '1. Redirec...\n",
              "28    el contenido era: '{{copyvio|[[http://www.rock...\n",
              "29    el contenido era: 'Relación [[simbiótica]] ent...\n",
              "30    el contenido era: 'Dícese de la flor cuyo [[pe...\n",
              "31    el contenido era: 'Opuesto a [[heteroclamideo|...\n",
              "32    trasladado al Wikci, el contenido era: 'Que ti...\n",
              "33    Movido al Wikci, el contenido era: 'Restos reg...\n",
              "34    el contenido era: '{{wikcionario}}Relativa al ...\n",
              "35    Me lo llevo al Wikci; el contenido era: 'Encar...\n",
              "36    movido al Wikci, el contenido era: 'Desarreglo...\n",
              "37    el contenido era: '#REDIRECT [[Lista de comarc...\n",
              "38    el contenido era: 'Ver [[Matemáticas]], [[Lógi...\n",
              "39    Esta frase está en las dos referencias. Muy pe...\n",
              "40    movido al Wikci, el contenido era: ''''Paisa''...\n",
              "41       Tren NS-93 del Metro, de mi propiedad {{GFDL}}\n",
              "42    Estación Cumming Linea 5, de mi propiedad {{GF...\n",
              "43                          Plano del Metro de Santiago\n",
              "44    el contenido era: 'Localidad del sureste de Ma...\n",
              "45    Movido al Wikci, el contenido era: '{{wikciona...\n",
              "46    el contenido era: '=== En construcción ===Coma...\n",
              "47    Página creada con este contenido: {{destruir}} ¿?\n",
              "48    Movido al Wikci, el contenido era: '{{Wikciona...\n",
              "49    el contenido era: 'Pintor nacido en [[Sigüenza...\n",
              "Name: comentario, dtype: object"
            ]
          },
          "execution_count": 7,
          "metadata": {},
          "output_type": "execute_result"
        }
      ],
      "source": [
        "logs.comentario.head(50)"
      ]
    },
    {
      "cell_type": "code",
      "execution_count": 8,
      "metadata": {
        "id": "bsisQ1mhRhWU"
      },
      "outputs": [],
      "source": [
        "# Guardo una copia del DF original.\n",
        "logs_copia = logs.copy()"
      ]
    },
    {
      "cell_type": "code",
      "execution_count": 9,
      "metadata": {
        "colab": {
          "base_uri": "https://localhost:8080/"
        },
        "id": "wqdzPCEOR3DF",
        "outputId": "2ba73e43-34fc-49bc-d652-eaf5eaee95fd"
      },
      "outputs": [
        {
          "data": {
            "text/plain": [
              "5       Usuario:212.55.30.157\n",
              "287    Usuario:201.241.228.15\n",
              "288     Usuario:201.255.50.32\n",
              "290      Usuario:84.122.0.158\n",
              "313      Usuario:81.192.12.93\n",
              "451      Usuario:81.192.30.42\n",
              "452       Usuario:80.58.3.239\n",
              "471    Usuario:200.28.184.131\n",
              "487     Usuario:62.83.249.208\n",
              "489    Usuario:63.171.232.248\n",
              "Name: titulo, dtype: object"
            ]
          },
          "execution_count": 9,
          "metadata": {},
          "output_type": "execute_result"
        }
      ],
      "source": [
        "logs[logs.accion == 'block'].titulo.head(10)"
      ]
    },
    {
      "cell_type": "code",
      "execution_count": 10,
      "metadata": {
        "colab": {
          "base_uri": "https://localhost:8080/"
        },
        "id": "cepNYE8wR3NN",
        "outputId": "d2dd3ddc-4ff4-4fbf-d07f-2cced5ca0fcf"
      },
      "outputs": [
        {
          "name": "stderr",
          "output_type": "stream",
          "text": [
            "/tmp/ipykernel_4556/2446305782.py:2: SettingWithCopyWarning: \n",
            "A value is trying to be set on a copy of a slice from a DataFrame.\n",
            "Try using .loc[row_indexer,col_indexer] = value instead\n",
            "\n",
            "See the caveats in the documentation: https://pandas.pydata.org/pandas-docs/stable/user_guide/indexing.html#returning-a-view-versus-a-copy\n",
            "  logs.titulo = logs.titulo.map(lambda x: x.replace('Usuario:', ''))\n"
          ]
        }
      ],
      "source": [
        "# Agrego una columna que indica si el usuario fue bloqueado.\n",
        "logs.titulo = logs.titulo.map(lambda x: x.replace('Usuario:', ''))\n",
        "\n",
        "bloqueos = logs[logs.accion == 'block']\n",
        "bloqueados = set(bloqueos.titulo)"
      ]
    },
    {
      "cell_type": "code",
      "execution_count": 11,
      "metadata": {
        "colab": {
          "base_uri": "https://localhost:8080/",
          "height": 645
        },
        "id": "3cUT2vqjaSzF",
        "outputId": "f0f5d596-6153-458b-818a-1bbafaff6816"
      },
      "outputs": [
        {
          "name": "stderr",
          "output_type": "stream",
          "text": [
            "/tmp/ipykernel_4556/3752216041.py:2: SettingWithCopyWarning: \n",
            "A value is trying to be set on a copy of a slice from a DataFrame.\n",
            "Try using .loc[row_indexer,col_indexer] = value instead\n",
            "\n",
            "See the caveats in the documentation: https://pandas.pydata.org/pandas-docs/stable/user_guide/indexing.html#returning-a-view-versus-a-copy\n",
            "  logs['user_fue_bloqueado'] = logs.user.map(lambda x: x in bloqueados)\n",
            "/tmp/ipykernel_4556/3752216041.py:3: SettingWithCopyWarning: \n",
            "A value is trying to be set on a copy of a slice from a DataFrame.\n",
            "Try using .loc[row_indexer,col_indexer] = value instead\n",
            "\n",
            "See the caveats in the documentation: https://pandas.pydata.org/pandas-docs/stable/user_guide/indexing.html#returning-a-view-versus-a-copy\n",
            "  logs['ip_fue_bloqueada'] = logs.ip.map(lambda x: x in bloqueados)\n"
          ]
        },
        {
          "data": {
            "text/html": [
              "<div>\n",
              "<style scoped>\n",
              "    .dataframe tbody tr th:only-of-type {\n",
              "        vertical-align: middle;\n",
              "    }\n",
              "\n",
              "    .dataframe tbody tr th {\n",
              "        vertical-align: top;\n",
              "    }\n",
              "\n",
              "    .dataframe thead th {\n",
              "        text-align: right;\n",
              "    }\n",
              "</style>\n",
              "<table border=\"1\" class=\"dataframe\">\n",
              "  <thead>\n",
              "    <tr style=\"text-align: right;\">\n",
              "      <th></th>\n",
              "      <th>user</th>\n",
              "      <th>ip</th>\n",
              "      <th>comentario</th>\n",
              "      <th>accion</th>\n",
              "      <th>titulo</th>\n",
              "      <th>user_fue_bloqueado</th>\n",
              "      <th>ip_fue_bloqueada</th>\n",
              "    </tr>\n",
              "  </thead>\n",
              "  <tbody>\n",
              "    <tr>\n",
              "      <th>0</th>\n",
              "      <td>Sabbut</td>\n",
              "      <td>NaN</td>\n",
              "      <td>el contenido era: 'Si aprendés Pensamiento Cie...</td>\n",
              "      <td>delete</td>\n",
              "      <td>Verificacionismo</td>\n",
              "      <td>True</td>\n",
              "      <td>False</td>\n",
              "    </tr>\n",
              "    <tr>\n",
              "      <th>1</th>\n",
              "      <td>Sabbut</td>\n",
              "      <td>NaN</td>\n",
              "      <td>el contenido era: '{{destruir}}en algun lugar ...</td>\n",
              "      <td>delete</td>\n",
              "      <td>Rapunzel</td>\n",
              "      <td>True</td>\n",
              "      <td>False</td>\n",
              "    </tr>\n",
              "    <tr>\n",
              "      <th>2</th>\n",
              "      <td>Sabbut</td>\n",
              "      <td>NaN</td>\n",
              "      <td>el contenido era: '#REDIRECT [[Flash]]'</td>\n",
              "      <td>delete</td>\n",
              "      <td>Macromedia Flash</td>\n",
              "      <td>True</td>\n",
              "      <td>False</td>\n",
              "    </tr>\n",
              "    <tr>\n",
              "      <th>3</th>\n",
              "      <td>Sanbec</td>\n",
              "      <td>NaN</td>\n",
              "      <td>Sin información de origen ni de licencia. Hay ...</td>\n",
              "      <td>delete</td>\n",
              "      <td>Archivo:Gnu head.png</td>\n",
              "      <td>True</td>\n",
              "      <td>False</td>\n",
              "    </tr>\n",
              "    <tr>\n",
              "      <th>4</th>\n",
              "      <td>Sanbec</td>\n",
              "      <td>NaN</td>\n",
              "      <td>Sustituida por  [[commons:Image:Heckert_GNU.png]]</td>\n",
              "      <td>delete</td>\n",
              "      <td>Archivo:Gnu-head-sm.jpg</td>\n",
              "      <td>True</td>\n",
              "      <td>False</td>\n",
              "    </tr>\n",
              "    <tr>\n",
              "      <th>...</th>\n",
              "      <td>...</td>\n",
              "      <td>...</td>\n",
              "      <td>...</td>\n",
              "      <td>...</td>\n",
              "      <td>...</td>\n",
              "      <td>...</td>\n",
              "      <td>...</td>\n",
              "    </tr>\n",
              "    <tr>\n",
              "      <th>12188941</th>\n",
              "      <td>SeroBOT</td>\n",
              "      <td>NaN</td>\n",
              "      <td>Aviso de pruebas a usuario tras reversiones co...</td>\n",
              "      <td>create</td>\n",
              "      <td>Usuario discusión:El guachicol</td>\n",
              "      <td>True</td>\n",
              "      <td>False</td>\n",
              "    </tr>\n",
              "    <tr>\n",
              "      <th>12188942</th>\n",
              "      <td>Leonpolanco</td>\n",
              "      <td>NaN</td>\n",
              "      <td>Página creada con «{{subst:Aviso prueba2|Luis ...</td>\n",
              "      <td>create</td>\n",
              "      <td>Usuario discusión:2806:2F0:3140:BE0:C09B:D1C4:...</td>\n",
              "      <td>False</td>\n",
              "      <td>False</td>\n",
              "    </tr>\n",
              "    <tr>\n",
              "      <th>12188943</th>\n",
              "      <td>Desiretjs</td>\n",
              "      <td>NaN</td>\n",
              "      <td>nan</td>\n",
              "      <td>create</td>\n",
              "      <td>Desiretjs</td>\n",
              "      <td>False</td>\n",
              "      <td>False</td>\n",
              "    </tr>\n",
              "    <tr>\n",
              "      <th>12188944</th>\n",
              "      <td>Correogsk</td>\n",
              "      <td>NaN</td>\n",
              "      <td>Página redirigida a [[Contenedor]]</td>\n",
              "      <td>create</td>\n",
              "      <td>Contenedores</td>\n",
              "      <td>False</td>\n",
              "      <td>False</td>\n",
              "    </tr>\n",
              "    <tr>\n",
              "      <th>12188945</th>\n",
              "      <td>Liza.amane</td>\n",
              "      <td>NaN</td>\n",
              "      <td>nan</td>\n",
              "      <td>create</td>\n",
              "      <td>Liza.amane</td>\n",
              "      <td>False</td>\n",
              "      <td>False</td>\n",
              "    </tr>\n",
              "  </tbody>\n",
              "</table>\n",
              "<p>12188944 rows × 7 columns</p>\n",
              "</div>"
            ],
            "text/plain": [
              "                 user   ip                                         comentario  \\\n",
              "0              Sabbut  NaN  el contenido era: 'Si aprendés Pensamiento Cie...   \n",
              "1              Sabbut  NaN  el contenido era: '{{destruir}}en algun lugar ...   \n",
              "2              Sabbut  NaN            el contenido era: '#REDIRECT [[Flash]]'   \n",
              "3              Sanbec  NaN  Sin información de origen ni de licencia. Hay ...   \n",
              "4              Sanbec  NaN  Sustituida por  [[commons:Image:Heckert_GNU.png]]   \n",
              "...               ...  ...                                                ...   \n",
              "12188941      SeroBOT  NaN  Aviso de pruebas a usuario tras reversiones co...   \n",
              "12188942  Leonpolanco  NaN  Página creada con «{{subst:Aviso prueba2|Luis ...   \n",
              "12188943    Desiretjs  NaN                                                nan   \n",
              "12188944    Correogsk  NaN                 Página redirigida a [[Contenedor]]   \n",
              "12188945   Liza.amane  NaN                                                nan   \n",
              "\n",
              "          accion                                             titulo  \\\n",
              "0         delete                                   Verificacionismo   \n",
              "1         delete                                           Rapunzel   \n",
              "2         delete                                   Macromedia Flash   \n",
              "3         delete                               Archivo:Gnu head.png   \n",
              "4         delete                            Archivo:Gnu-head-sm.jpg   \n",
              "...          ...                                                ...   \n",
              "12188941  create                     Usuario discusión:El guachicol   \n",
              "12188942  create  Usuario discusión:2806:2F0:3140:BE0:C09B:D1C4:...   \n",
              "12188943  create                                          Desiretjs   \n",
              "12188944  create                                       Contenedores   \n",
              "12188945  create                                         Liza.amane   \n",
              "\n",
              "          user_fue_bloqueado  ip_fue_bloqueada  \n",
              "0                       True             False  \n",
              "1                       True             False  \n",
              "2                       True             False  \n",
              "3                       True             False  \n",
              "4                       True             False  \n",
              "...                      ...               ...  \n",
              "12188941                True             False  \n",
              "12188942               False             False  \n",
              "12188943               False             False  \n",
              "12188944               False             False  \n",
              "12188945               False             False  \n",
              "\n",
              "[12188944 rows x 7 columns]"
            ]
          },
          "execution_count": 11,
          "metadata": {},
          "output_type": "execute_result"
        }
      ],
      "source": [
        "# Agrego 2 columnas que guardan la informacion de si un usuario o ip fue bloqueado.\n",
        "logs['user_fue_bloqueado'] = logs.user.map(lambda x: x in bloqueados)\n",
        "logs['ip_fue_bloqueada'] = logs.ip.map(lambda x: x in bloqueados)\n",
        "logs"
      ]
    },
    {
      "cell_type": "code",
      "execution_count": 12,
      "metadata": {
        "colab": {
          "base_uri": "https://localhost:8080/"
        },
        "id": "Qp-JY6MiarN9",
        "outputId": "b1647c27-f4ed-44d5-f86b-08bb8f63a84e"
      },
      "outputs": [
        {
          "data": {
            "text/plain": [
              "array([False,  True])"
            ]
          },
          "execution_count": 12,
          "metadata": {},
          "output_type": "execute_result"
        }
      ],
      "source": [
        "logs.ip_fue_bloqueada.unique()\n",
        "# Esto quiere decir que de los usuarios sin nombre (que estan identificados por su ip), ninguno fue bloqueado."
      ]
    },
    {
      "cell_type": "code",
      "execution_count": 13,
      "metadata": {
        "colab": {
          "base_uri": "https://localhost:8080/"
        },
        "id": "HX6tX69IcDWM",
        "outputId": "2a045d33-60e8-4c11-dfb0-0e343c8e18bd"
      },
      "outputs": [
        {
          "name": "stderr",
          "output_type": "stream",
          "text": [
            "/tmp/ipykernel_4556/428535004.py:1: SettingWithCopyWarning: \n",
            "A value is trying to be set on a copy of a slice from a DataFrame\n",
            "\n",
            "See the caveats in the documentation: https://pandas.pydata.org/pandas-docs/stable/user_guide/indexing.html#returning-a-view-versus-a-copy\n",
            "  logs.drop(['ip','ip_fue_bloqueada'], axis=1, inplace=True)\n"
          ]
        }
      ],
      "source": [
        "logs.drop(['ip','ip_fue_bloqueada'], axis=1, inplace=True)"
      ]
    },
    {
      "cell_type": "code",
      "execution_count": 14,
      "metadata": {
        "colab": {
          "base_uri": "https://localhost:8080/",
          "height": 423
        },
        "id": "7XFqwjuJR3Td",
        "outputId": "2c387fc7-76db-432d-bdd3-581a00cde92d"
      },
      "outputs": [
        {
          "data": {
            "text/html": [
              "<div>\n",
              "<style scoped>\n",
              "    .dataframe tbody tr th:only-of-type {\n",
              "        vertical-align: middle;\n",
              "    }\n",
              "\n",
              "    .dataframe tbody tr th {\n",
              "        vertical-align: top;\n",
              "    }\n",
              "\n",
              "    .dataframe thead th {\n",
              "        text-align: right;\n",
              "    }\n",
              "</style>\n",
              "<table border=\"1\" class=\"dataframe\">\n",
              "  <thead>\n",
              "    <tr style=\"text-align: right;\">\n",
              "      <th></th>\n",
              "      <th>user</th>\n",
              "      <th>comentario</th>\n",
              "      <th>accion</th>\n",
              "      <th>titulo</th>\n",
              "    </tr>\n",
              "  </thead>\n",
              "  <tbody>\n",
              "    <tr>\n",
              "      <th>0</th>\n",
              "      <td>Sabbut</td>\n",
              "      <td>el contenido era: 'Si aprendés Pensamiento Cie...</td>\n",
              "      <td>delete</td>\n",
              "      <td>Verificacionismo</td>\n",
              "    </tr>\n",
              "    <tr>\n",
              "      <th>1</th>\n",
              "      <td>Sabbut</td>\n",
              "      <td>el contenido era: '{{destruir}}en algun lugar ...</td>\n",
              "      <td>delete</td>\n",
              "      <td>Rapunzel</td>\n",
              "    </tr>\n",
              "    <tr>\n",
              "      <th>2</th>\n",
              "      <td>Sabbut</td>\n",
              "      <td>el contenido era: '#REDIRECT [[Flash]]'</td>\n",
              "      <td>delete</td>\n",
              "      <td>Macromedia Flash</td>\n",
              "    </tr>\n",
              "    <tr>\n",
              "      <th>3</th>\n",
              "      <td>Sanbec</td>\n",
              "      <td>Sin información de origen ni de licencia. Hay ...</td>\n",
              "      <td>delete</td>\n",
              "      <td>Archivo:Gnu head.png</td>\n",
              "    </tr>\n",
              "    <tr>\n",
              "      <th>4</th>\n",
              "      <td>Sanbec</td>\n",
              "      <td>Sustituida por  [[commons:Image:Heckert_GNU.png]]</td>\n",
              "      <td>delete</td>\n",
              "      <td>Archivo:Gnu-head-sm.jpg</td>\n",
              "    </tr>\n",
              "    <tr>\n",
              "      <th>...</th>\n",
              "      <td>...</td>\n",
              "      <td>...</td>\n",
              "      <td>...</td>\n",
              "      <td>...</td>\n",
              "    </tr>\n",
              "    <tr>\n",
              "      <th>12188864</th>\n",
              "      <td>Albo Andrés R</td>\n",
              "      <td>nan</td>\n",
              "      <td>thank</td>\n",
              "      <td>JonasBR</td>\n",
              "    </tr>\n",
              "    <tr>\n",
              "      <th>12188870</th>\n",
              "      <td>Carlos yo</td>\n",
              "      <td>Página creada con «{{Ficha de edificio}} El ''...</td>\n",
              "      <td>create</td>\n",
              "      <td>Hospital Metropolitano</td>\n",
              "    </tr>\n",
              "    <tr>\n",
              "      <th>12188903</th>\n",
              "      <td>JulioW4rrior00</td>\n",
              "      <td>nan</td>\n",
              "      <td>thank</td>\n",
              "      <td>Latothy99</td>\n",
              "    </tr>\n",
              "    <tr>\n",
              "      <th>12188905</th>\n",
              "      <td>Latothy99</td>\n",
              "      <td>nan</td>\n",
              "      <td>thank</td>\n",
              "      <td>JulioW4rrior00</td>\n",
              "    </tr>\n",
              "    <tr>\n",
              "      <th>12188941</th>\n",
              "      <td>SeroBOT</td>\n",
              "      <td>Aviso de pruebas a usuario tras reversiones co...</td>\n",
              "      <td>create</td>\n",
              "      <td>Usuario discusión:El guachicol</td>\n",
              "    </tr>\n",
              "  </tbody>\n",
              "</table>\n",
              "<p>2066035 rows × 4 columns</p>\n",
              "</div>"
            ],
            "text/plain": [
              "                    user                                         comentario  \\\n",
              "0                 Sabbut  el contenido era: 'Si aprendés Pensamiento Cie...   \n",
              "1                 Sabbut  el contenido era: '{{destruir}}en algun lugar ...   \n",
              "2                 Sabbut            el contenido era: '#REDIRECT [[Flash]]'   \n",
              "3                 Sanbec  Sin información de origen ni de licencia. Hay ...   \n",
              "4                 Sanbec  Sustituida por  [[commons:Image:Heckert_GNU.png]]   \n",
              "...                  ...                                                ...   \n",
              "12188864   Albo Andrés R                                                nan   \n",
              "12188870       Carlos yo  Página creada con «{{Ficha de edificio}} El ''...   \n",
              "12188903  JulioW4rrior00                                                nan   \n",
              "12188905       Latothy99                                                nan   \n",
              "12188941         SeroBOT  Aviso de pruebas a usuario tras reversiones co...   \n",
              "\n",
              "          accion                          titulo  \n",
              "0         delete                Verificacionismo  \n",
              "1         delete                        Rapunzel  \n",
              "2         delete                Macromedia Flash  \n",
              "3         delete            Archivo:Gnu head.png  \n",
              "4         delete         Archivo:Gnu-head-sm.jpg  \n",
              "...          ...                             ...  \n",
              "12188864   thank                         JonasBR  \n",
              "12188870  create          Hospital Metropolitano  \n",
              "12188903   thank                       Latothy99  \n",
              "12188905   thank                  JulioW4rrior00  \n",
              "12188941  create  Usuario discusión:El guachicol  \n",
              "\n",
              "[2066035 rows x 4 columns]"
            ]
          },
          "execution_count": 14,
          "metadata": {},
          "output_type": "execute_result"
        }
      ],
      "source": [
        "# Me quedo solo con los usuarios que fueron bloqueados.\n",
        "logs = logs[logs.user_fue_bloqueado].drop('user_fue_bloqueado', axis=1)\n",
        "\n",
        "# creo un set con las acciones que son de administrador y las que tienen solo comentarios 'nan' (para cuando aplique sample me traiga comentarios con contenido).\n",
        "acciones_admin = {\n",
        "    'block',\n",
        "    'reblock',\n",
        "    'unblock',\n",
        "    'protect',\n",
        "    'unprotect',\n",
        "    'restore',\n",
        "    'rights',\n",
        "    'modify',\n",
        "    'usergroups',\n",
        "    'revision',\n",
        "    'interwiki',\n",
        "    'byemail',\n",
        "    'remove',\n",
        "    'review',\n",
        "    'patrol',\n",
        "    'autocreate',\n",
        "    'merge',\n",
        "    'unreview',\n",
        "    'delete_redir',\n",
        "    'whitelist',\n",
        "    'change',\n",
        "    'new',\n",
        "}\n",
        "\n",
        "logs = logs[logs.accion.map(lambda x: x not in acciones_admin)]\n",
        "logs"
      ]
    },
    {
      "cell_type": "code",
      "execution_count": 15,
      "metadata": {
        "colab": {
          "base_uri": "https://localhost:8080/"
        },
        "id": "TxQLVbj4R3WS",
        "outputId": "ca695a06-6918-4541-edc8-bf8d57a382a5"
      },
      "outputs": [
        {
          "data": {
            "text/plain": [
              "4486140     [[WP:BR#A4|No enciclopédico]]: a medio traduci...\n",
              "1691454              Copiado de un wiki sin citar sus fuentes\n",
              "8212425                [[WP:FP|Fuente primaria tras 30 días]]\n",
              "1927160     el contenido era: «{{destruir|No enciclopédico...\n",
              "1285597     el contenido era: «{{RobotDestruir|190.49.118....\n",
              "10328220       Página creada con «[[Categoría:Valle de Oca]]»\n",
              "10266929    Notificación sobre referencias alteradas que n...\n",
              "11547366    Página creada con «{{Evento futuro|elección}} ...\n",
              "228897                                              en blanco\n",
              "9099987                                      /* Resultados */\n",
              "11868153    Página creada con «{{PR|Música clásica|importa...\n",
              "3970679                     [[WP:BR|redirección innecesaria]]\n",
              "3594130     borrado rápido usando [[w:es:User:Axxgreazz/Mo...\n",
              "5062897                                 Fusión de historiales\n",
              "1951358     el contenido era: «{{RobotDestruir|201.92.175....\n",
              "190677      el contenido era: «Mintal es un grandisimo hij...\n",
              "11366492    Creado al traducir la página: https://ceb.wiki...\n",
              "6801271                Borrado para hacerle sitio al traslado\n",
              "217991       el contenido era: «{{destruir|no enciclopédico}}\n",
              "9850373     Notificación sobre referencias alteradas que n...\n",
              "7615342                Borrado para hacerle sitio al traslado\n",
              "2232346     el contenido era «{{libro_guardado}}  == Fotog...\n",
              "4319237                       [[WP:BR#G4|Pruebas de edición]]\n",
              "1619772     borrado rápido usando [[w:es:User:Axxgreazz/Mo...\n",
              "11816127                                          wikificando\n",
              "10252577    Página creada con «'''Página de Ultra Memes'''...\n",
              "10837627                Página creada con «{{PR|Artrópodos}}»\n",
              "1817125     el contenido era: «{{destruir|No enciclopédico...\n",
              "4531956     [[WP:BR#Art.C3.ADculos|A4]]: [[WP:SRA|sin rele...\n",
              "7180594     [[WP:V|Contenido promocional o laudatorio tras...\n",
              "141183      {{destruir|En italiano, aparecen e-mails por a...\n",
              "3397024                                    título más natural\n",
              "277272      el contenido era: «jjjjjjjjjjjjaaaaaaaaaaaaaaa...\n",
              "3378538     borrado rápido usando [[w:es:User:Axxgreazz/Mo...\n",
              "11949749    Página creada con «{{subst:Aviso destruir|1=Es...\n",
              "5419766                               [[WP:BR#G1|Vandalismo]]\n",
              "11679052    [[WP:BR#P.C3.A1ginas_de_usuario|U3]]: [[WP:PU|...\n",
              "10591360    Notificación sobre referencias alteradas que n...\n",
              "2108964     el contenido era: «{{destruir|Pruebas de edici...\n",
              "3561944     [[WP:BR#Redirecciones|R3]]: redirección innece...\n",
              "10444866    Notificación sobre referencias alteradas que n...\n",
              "6792149                Borrado para hacerle sitio al traslado\n",
              "9202040                               wikiproyecto Valladolid\n",
              "1712304     [[WP:BR|Redirección incorrecta o página trasla...\n",
              "4459364     el contenido era «#REDIRECT [[Laura Franco]]» ...\n",
              "11729260    [[WP:BR#Art.C3.ADculos|A1]]: [[WP:NO|no encicl...\n",
              "11206996       Agregue toda la información sobre esta canción\n",
              "4747243     [[WP:BR#R3|Redirección automática]]: el conten...\n",
              "2292460     Motivo 1: el termino coche no es un término us...\n",
              "602278                        sin relevancia demostrada 1 mes\n",
              "Name: comentario, dtype: object"
            ]
          },
          "execution_count": 15,
          "metadata": {},
          "output_type": "execute_result"
        }
      ],
      "source": [
        "# Aca queda un sample de 50 comentarios de usuarios que fueron bloqueados eventualmente.\n",
        "logs.comentario = logs.comentario.map(lambda x: str(x))\n",
        "logs = logs[logs.comentario != 'nan']\n",
        "logs = logs[logs.comentario != 'NaN']\n",
        "logs = logs[logs.comentario != '-']\n",
        "logs.comentario.sample(50)"
      ]
    },
    {
      "cell_type": "code",
      "execution_count": 16,
      "metadata": {
        "colab": {
          "base_uri": "https://localhost:8080/"
        },
        "id": "5FqlhY4FR3ZC",
        "outputId": "ef7967e2-9780-49a8-cc96-8e2c01da365b"
      },
      "outputs": [
        {
          "data": {
            "text/plain": [
              "6574640     [[m:Special:MyLanguage/Single User Login final...\n",
              "2630237                       [[WP:VN|Vandalismo de páginas]]\n",
              "10484020             Página redirigida a [[Sōkyū no Ariadne]]\n",
              "7970968     [[WP:SRA|Relevancia no demostrada tras 30 días...\n",
              "525632            el año de edición no forma parte del título\n",
              "2835029     el contenido era «{{destruir|No enciclopédico}...\n",
              "2014356                                              Destruir\n",
              "10560304       [[WP:NSW|Sabotaje]]: a extorsionar a otro lado\n",
              "11507439    Artículo creado con el [[WP:ACA|#Asistentedear...\n",
              "4099666                         [[WP:BR#A4|No enciclopédico]]\n",
              "2203687     borrado rápido usando [[w:es:User:Axxgreazz/Mo...\n",
              "6833290     borrado rápido usando [[w:es:User:Axxgreazz/Mo...\n",
              "3999790     [[WP:UT#Situaciones de prohibición|Abuso de mú...\n",
              "4498396     [[WP:BR#G6|Violación de los derechos de autor]...\n",
              "9935501     Página creada con «{{subst:Aviso destruir|1=Xx...\n",
              "2688929     Bot: Esta categoría ha sido movida a [[:Catego...\n",
              "3023039     borrado rápido usando [[w:es:User:Axxgreazz/Mo...\n",
              "11537097    Página creada con «{{Ficha de programa de tele...\n",
              "10819116                                 Plantilla en portada\n",
              "10138333    Página creada con «{{En desarrollo|Luis fragar...\n",
              "373876      el contenido era: «pepe» (único autor: [[Usuar...\n",
              "10827839    Redirección hacia el nombre original de la pág...\n",
              "7991665     [[WP:BR#R4|Redirección incorrecta o innecesaria]]\n",
              "12146851    Página creada con «{{Ficha de campeonato |nomb...\n",
              "9852670     Página redirigida a [[Copa de la Reina de Fútb...\n",
              "11328823    '''[[WP:BR#G4|G4]]''': Página de pruebas, no c...\n",
              "4892143     el contenido era «{{sinrelevancia|24|abril}} {...\n",
              "9637347     Página creada con «{{evento futuro|deporte}} {...\n",
              "10663377    Página creada con «== Guionizacion para series...\n",
              "3518861                          Página de discusión huérfana\n",
              "9340255     Página creada con «'''Il 21 '''([[Castiglionce...\n",
              "11371083               Borrado para hacerle sitio al traslado\n",
              "6412528     Página trasladada automáticamente al cambiar e...\n",
              "7955931                               [[WP:BR#G1|Vandalismo]]\n",
              "339073      el contenido era: «hola necesito el mapa de ge...\n",
              "1355143     el contenido era: «{{Destruir|Por un error vol...\n",
              "11110828            [[WP:BR#G7|Página de discusión huérfana]]\n",
              "7385929     Guión como nexo entre intervalos numéricos, se...\n",
              "1358809     el contenido era: «{{destruir|Pruebas de edici...\n",
              "5611750                           Página de usuario expulsado\n",
              "6165054                              iOS App Account Creation\n",
              "309382      el contenido era: «{{LengConNombre|pl|polaco|'...\n",
              "5801739                              iOS App Account Creation\n",
              "10289143    Notificación sobre referencias alteradas que n...\n",
              "4435263     el contenido era «{{destruir|1=No enciclopédic...\n",
              "2324455     el contenido era «{{destruir|no enciclopédico}...\n",
              "11832885                      Nueva plantilla para Wikipedia.\n",
              "10474614                                       categorizacion\n",
              "10712998                                                nuevo\n",
              "908384                   el contenido era: «-..-{{destruir}}»\n",
              "Name: comentario, dtype: object"
            ]
          },
          "execution_count": 16,
          "metadata": {},
          "output_type": "execute_result"
        }
      ],
      "source": [
        "# Agarro el DF viejo y muestro un sample de comentarios de acciones de usuarios o admins.\n",
        "logs = logs_copia\n",
        "logs.comentario = logs.comentario.map(lambda x: str(x))\n",
        "logs = logs[logs.comentario != 'nan']\n",
        "logs = logs[logs.comentario != 'NaN']\n",
        "logs.comentario.sample(50)"
      ]
    }
  ],
  "metadata": {
    "colab": {
      "provenance": []
    },
    "kernelspec": {
      "display_name": "Python 3",
      "name": "python3"
    },
    "language_info": {
      "codemirror_mode": {
        "name": "ipython",
        "version": 3
      },
      "file_extension": ".py",
      "mimetype": "text/x-python",
      "name": "python",
      "nbconvert_exporter": "python",
      "pygments_lexer": "ipython3",
      "version": "3.11.3"
    }
  },
  "nbformat": 4,
  "nbformat_minor": 0
}
