{
 "cells": [
  {
   "attachments": {},
   "cell_type": "markdown",
   "metadata": {},
   "source": [
    "# 10 categorías que tienen la menor cantidad de contenido anónimo publicado. (⭐)"
   ]
  },
  {
   "cell_type": "code",
   "execution_count": 17,
   "metadata": {},
   "outputs": [],
   "source": [
    "import pyspark as sp"
   ]
  },
  {
   "cell_type": "code",
   "execution_count": 18,
   "metadata": {},
   "outputs": [
    {
     "name": "stderr",
     "output_type": "stream",
     "text": [
      "                                                                                \r"
     ]
    }
   ],
   "source": [
    "spark = sp.sql.SparkSession.builder.getOrCreate()\n",
    "category = spark.read.csv('../data/categorylinks.csv', header=True, inferSchema=True).rdd\n",
    "contents = spark.read.csv('../data/contents.csv', header=True, inferSchema=True).rdd"
   ]
  },
  {
   "cell_type": "code",
   "execution_count": 19,
   "metadata": {},
   "outputs": [],
   "source": [
    "# Contents\n",
    "#  (1, 'id'),\n",
    "#  (2, 'title'),\n",
    "#  (3, 'namespace'),\n",
    "#  (4, 'revision_id'),\n",
    "#  (5, 'revision_timestamp'),\n",
    "#  (6, 'revision_username'),\n",
    "#  (7, 'revisor_id'),\n",
    "#  (8, 'revisor_ip'),\n",
    "#  (9, 'revision_comment')]"
   ]
  },
  {
   "cell_type": "code",
   "execution_count": 20,
   "metadata": {},
   "outputs": [],
   "source": [
    "# Category\n",
    "# [(0, 'cl_from'),\n",
    "#  (1, 'cl_to'),\n",
    "#  (2, 'cl_sortkey'),\n",
    "#  (3, 'cl_timestamp'),\n",
    "#  (4, 'cl_sortkey_prefix'),\n",
    "#  (5, 'cl_collation'),\n",
    "#  (6, 'cl_type')]"
   ]
  },
  {
   "cell_type": "code",
   "execution_count": 21,
   "metadata": {},
   "outputs": [],
   "source": [
    "# Filtro contents y transformo sus registros a tuplas (content_id, None).\n",
    "contents = contents.filter(lambda x: not x[6] and x[8]).map(lambda x: (x[1], None))\n",
    "# Me hubiera gustado no guardarme un campo None pero no\n",
    "# supe como hacer un join sin tener una tupla key value."
   ]
  },
  {
   "cell_type": "code",
   "execution_count": 22,
   "metadata": {},
   "outputs": [
    {
     "name": "stderr",
     "output_type": "stream",
     "text": [
      "                                                                                \r"
     ]
    },
    {
     "data": {
      "text/plain": [
       "[('1893', 1),\n",
       " ('Plantas_descritas_en_1994', 1),\n",
       " ('Trabajo_en_JapÃ³n', 1),\n",
       " ('Chile_en_1862', 1),\n",
       " ('Batallas_en_la_provincia_de_Ciudad_Real', 1),\n",
       " ('IntÃ©rpretes_de_mÃºsica_clÃ¡sica_de_Venezuela', 1),\n",
       " ('Fascismo_en_EspaÃ±a', 1),\n",
       " ('Localidades_establecidas_en_1580', 1),\n",
       " ('AerolÃ\\xadneas_desaparecidas_en_2010', 1),\n",
       " ('Constitucionalistas_de_PanamÃ¡', 1)]"
      ]
     },
     "execution_count": 22,
     "metadata": {},
     "output_type": "execute_result"
    }
   ],
   "source": [
    "# i)   Transformo los registros de category a tuplas (content_id, nombre_de_su_categoria).\n",
    "# ii)  Junto los dos RDDs por su content_id consiguiendo los registros (content_id, (nombre_de_su_categoria, None)).\n",
    "# iii) Transformo los registros a tuplas (nombre_de_categoria, 1).\n",
    "# iv)  Sumo sus valores por clave.\n",
    "# v)   Me quedo con las 10 categorias con menos articulos.\n",
    "category.map(lambda x: (x[0], x[1]))\\\n",
    "    .join(contents)\\\n",
    "    .map(lambda x: (x[1][0], 1))\\\n",
    "    .reduceByKey(lambda x,y: x+y)\\\n",
    "    .takeOrdered(10, key=lambda x: x[1])\n"
   ]
  }
 ],
 "metadata": {
  "kernelspec": {
   "display_name": "Python 3",
   "language": "python",
   "name": "python3"
  },
  "language_info": {
   "codemirror_mode": {
    "name": "ipython",
    "version": 3
   },
   "file_extension": ".py",
   "mimetype": "text/x-python",
   "name": "python",
   "nbconvert_exporter": "python",
   "pygments_lexer": "ipython3",
   "version": "3.11.3"
  },
  "orig_nbformat": 4
 },
 "nbformat": 4,
 "nbformat_minor": 2
}
