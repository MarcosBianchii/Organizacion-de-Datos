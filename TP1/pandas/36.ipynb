{
 "cells": [
  {
   "attachments": {},
   "cell_type": "markdown",
   "metadata": {},
   "source": [
    "# Quien es el usuario que más idiomas domina con un nivel de 2 o superior (⭐)"
   ]
  },
  {
   "cell_type": "code",
   "execution_count": 10,
   "metadata": {},
   "outputs": [
    {
     "data": {
      "text/html": [
       "<div>\n",
       "<style scoped>\n",
       "    .dataframe tbody tr th:only-of-type {\n",
       "        vertical-align: middle;\n",
       "    }\n",
       "\n",
       "    .dataframe tbody tr th {\n",
       "        vertical-align: top;\n",
       "    }\n",
       "\n",
       "    .dataframe thead th {\n",
       "        text-align: right;\n",
       "    }\n",
       "</style>\n",
       "<table border=\"1\" class=\"dataframe\">\n",
       "  <thead>\n",
       "    <tr style=\"text-align: right;\">\n",
       "      <th></th>\n",
       "      <th>babel_user</th>\n",
       "      <th>babel_lang</th>\n",
       "      <th>babel_level</th>\n",
       "    </tr>\n",
       "  </thead>\n",
       "  <tbody>\n",
       "    <tr>\n",
       "      <th>0</th>\n",
       "      <td>4502458</td>\n",
       "      <td>FR</td>\n",
       "      <td>2</td>\n",
       "    </tr>\n",
       "    <tr>\n",
       "      <th>1</th>\n",
       "      <td>5928200</td>\n",
       "      <td>aa</td>\n",
       "      <td>0</td>\n",
       "    </tr>\n",
       "    <tr>\n",
       "      <th>2</th>\n",
       "      <td>46918</td>\n",
       "      <td>ab</td>\n",
       "      <td>0</td>\n",
       "    </tr>\n",
       "    <tr>\n",
       "      <th>3</th>\n",
       "      <td>2050449</td>\n",
       "      <td>ab</td>\n",
       "      <td>1</td>\n",
       "    </tr>\n",
       "    <tr>\n",
       "      <th>4</th>\n",
       "      <td>4715583</td>\n",
       "      <td>ace</td>\n",
       "      <td>0</td>\n",
       "    </tr>\n",
       "    <tr>\n",
       "      <th>...</th>\n",
       "      <td>...</td>\n",
       "      <td>...</td>\n",
       "      <td>...</td>\n",
       "    </tr>\n",
       "    <tr>\n",
       "      <th>35661</th>\n",
       "      <td>2089885</td>\n",
       "      <td>zh-Hant-HK</td>\n",
       "      <td>1</td>\n",
       "    </tr>\n",
       "    <tr>\n",
       "      <th>35662</th>\n",
       "      <td>2089885</td>\n",
       "      <td>zh-Hant-TW</td>\n",
       "      <td>3</td>\n",
       "    </tr>\n",
       "    <tr>\n",
       "      <th>35663</th>\n",
       "      <td>5036533</td>\n",
       "      <td>zu</td>\n",
       "      <td>0</td>\n",
       "    </tr>\n",
       "    <tr>\n",
       "      <th>35664</th>\n",
       "      <td>5928200</td>\n",
       "      <td>zu</td>\n",
       "      <td>0</td>\n",
       "    </tr>\n",
       "    <tr>\n",
       "      <th>35665</th>\n",
       "      <td>87482</td>\n",
       "      <td>zza</td>\n",
       "      <td>N</td>\n",
       "    </tr>\n",
       "  </tbody>\n",
       "</table>\n",
       "<p>35666 rows × 3 columns</p>\n",
       "</div>"
      ],
      "text/plain": [
       "       babel_user  babel_lang babel_level\n",
       "0         4502458          FR           2\n",
       "1         5928200          aa           0\n",
       "2           46918          ab           0\n",
       "3         2050449          ab           1\n",
       "4         4715583         ace           0\n",
       "...           ...         ...         ...\n",
       "35661     2089885  zh-Hant-HK           1\n",
       "35662     2089885  zh-Hant-TW           3\n",
       "35663     5036533          zu           0\n",
       "35664     5928200          zu           0\n",
       "35665       87482         zza           N\n",
       "\n",
       "[35666 rows x 3 columns]"
      ]
     },
     "execution_count": 10,
     "metadata": {},
     "output_type": "execute_result"
    }
   ],
   "source": [
    "import pandas as pd\n",
    "lang = pd.read_csv('../data/languages.csv')\n",
    "lang"
   ]
  },
  {
   "cell_type": "code",
   "execution_count": 11,
   "metadata": {},
   "outputs": [
    {
     "name": "stdout",
     "output_type": "stream",
     "text": [
      "<class 'pandas.core.frame.DataFrame'>\n",
      "RangeIndex: 35666 entries, 0 to 35665\n",
      "Data columns (total 3 columns):\n",
      " #   Column       Non-Null Count  Dtype \n",
      "---  ------       --------------  ----- \n",
      " 0   babel_user   35666 non-null  int64 \n",
      " 1   babel_lang   35662 non-null  object\n",
      " 2   babel_level  35666 non-null  object\n",
      "dtypes: int64(1), object(2)\n",
      "memory usage: 836.1+ KB\n"
     ]
    }
   ],
   "source": [
    "lang.info()"
   ]
  },
  {
   "cell_type": "code",
   "execution_count": 12,
   "metadata": {},
   "outputs": [
    {
     "data": {
      "text/plain": [
       "array(['2', '0', '1', '3', '4', 'N', '5'], dtype=object)"
      ]
     },
     "execution_count": 12,
     "metadata": {},
     "output_type": "execute_result"
    }
   ],
   "source": [
    "lang.babel_level.unique()"
   ]
  },
  {
   "cell_type": "code",
   "execution_count": 13,
   "metadata": {},
   "outputs": [
    {
     "name": "stdout",
     "output_type": "stream",
     "text": [
      "<class 'pandas.core.frame.DataFrame'>\n",
      "RangeIndex: 35666 entries, 0 to 35665\n",
      "Data columns (total 3 columns):\n",
      " #   Column       Non-Null Count  Dtype \n",
      "---  ------       --------------  ----- \n",
      " 0   babel_user   35666 non-null  int64 \n",
      " 1   babel_lang   35666 non-null  object\n",
      " 2   babel_level  35666 non-null  int64 \n",
      "dtypes: int64(2), object(1)\n",
      "memory usage: 836.1+ KB\n"
     ]
    }
   ],
   "source": [
    "# Cambio el dtype de babeL_level a enteros.\n",
    "# Asigno a los nativos a nivel 5 y los xx-5 a nivel 6.\n",
    "def traducir_nivel(string):\n",
    "    traduccion = {\n",
    "        '0':0,\n",
    "        '1':1,\n",
    "        '2':2,\n",
    "        '3':3,\n",
    "        '4':4,\n",
    "        'N':5,\n",
    "        '5':6,\n",
    "    }\n",
    "\n",
    "    return traduccion[string]\n",
    "\n",
    "lang.babel_level = lang.babel_level.map(traducir_nivel)\n",
    "# Considero las provenencias de los idiomas como el mismo idioma.\n",
    "lang.babel_lang = lang.babel_lang.map(lambda x: str(x).split('-')[0].lower())\n",
    "lang.info()"
   ]
  },
  {
   "cell_type": "code",
   "execution_count": 14,
   "metadata": {},
   "outputs": [
    {
     "data": {
      "text/html": [
       "<div>\n",
       "<style scoped>\n",
       "    .dataframe tbody tr th:only-of-type {\n",
       "        vertical-align: middle;\n",
       "    }\n",
       "\n",
       "    .dataframe tbody tr th {\n",
       "        vertical-align: top;\n",
       "    }\n",
       "\n",
       "    .dataframe thead th {\n",
       "        text-align: right;\n",
       "    }\n",
       "</style>\n",
       "<table border=\"1\" class=\"dataframe\">\n",
       "  <thead>\n",
       "    <tr style=\"text-align: right;\">\n",
       "      <th></th>\n",
       "      <th>babel_user</th>\n",
       "      <th>babel_lang</th>\n",
       "      <th>babel_level</th>\n",
       "    </tr>\n",
       "  </thead>\n",
       "  <tbody>\n",
       "    <tr>\n",
       "      <th>0</th>\n",
       "      <td>4502458</td>\n",
       "      <td>fr</td>\n",
       "      <td>2</td>\n",
       "    </tr>\n",
       "    <tr>\n",
       "      <th>14</th>\n",
       "      <td>188693</td>\n",
       "      <td>af</td>\n",
       "      <td>2</td>\n",
       "    </tr>\n",
       "    <tr>\n",
       "      <th>15</th>\n",
       "      <td>2766138</td>\n",
       "      <td>af</td>\n",
       "      <td>2</td>\n",
       "    </tr>\n",
       "    <tr>\n",
       "      <th>16</th>\n",
       "      <td>832026</td>\n",
       "      <td>af</td>\n",
       "      <td>3</td>\n",
       "    </tr>\n",
       "    <tr>\n",
       "      <th>17</th>\n",
       "      <td>842951</td>\n",
       "      <td>af</td>\n",
       "      <td>4</td>\n",
       "    </tr>\n",
       "    <tr>\n",
       "      <th>...</th>\n",
       "      <td>...</td>\n",
       "      <td>...</td>\n",
       "      <td>...</td>\n",
       "    </tr>\n",
       "    <tr>\n",
       "      <th>35658</th>\n",
       "      <td>5561040</td>\n",
       "      <td>zh</td>\n",
       "      <td>5</td>\n",
       "    </tr>\n",
       "    <tr>\n",
       "      <th>35659</th>\n",
       "      <td>5915818</td>\n",
       "      <td>zh</td>\n",
       "      <td>5</td>\n",
       "    </tr>\n",
       "    <tr>\n",
       "      <th>35660</th>\n",
       "      <td>2089885</td>\n",
       "      <td>zh</td>\n",
       "      <td>4</td>\n",
       "    </tr>\n",
       "    <tr>\n",
       "      <th>35662</th>\n",
       "      <td>2089885</td>\n",
       "      <td>zh</td>\n",
       "      <td>3</td>\n",
       "    </tr>\n",
       "    <tr>\n",
       "      <th>35665</th>\n",
       "      <td>87482</td>\n",
       "      <td>zza</td>\n",
       "      <td>5</td>\n",
       "    </tr>\n",
       "  </tbody>\n",
       "</table>\n",
       "<p>26985 rows × 3 columns</p>\n",
       "</div>"
      ],
      "text/plain": [
       "       babel_user babel_lang  babel_level\n",
       "0         4502458         fr            2\n",
       "14         188693         af            2\n",
       "15        2766138         af            2\n",
       "16         832026         af            3\n",
       "17         842951         af            4\n",
       "...           ...        ...          ...\n",
       "35658     5561040         zh            5\n",
       "35659     5915818         zh            5\n",
       "35660     2089885         zh            4\n",
       "35662     2089885         zh            3\n",
       "35665       87482        zza            5\n",
       "\n",
       "[26985 rows x 3 columns]"
      ]
     },
     "execution_count": 14,
     "metadata": {},
     "output_type": "execute_result"
    }
   ],
   "source": [
    "# Filtro los idiomas por el nivel alcanzado por los usuarios.\n",
    "lang = lang[lang.babel_level >= 2]\n",
    "lang"
   ]
  },
  {
   "cell_type": "code",
   "execution_count": 15,
   "metadata": {},
   "outputs": [
    {
     "data": {
      "text/html": [
       "<div>\n",
       "<style scoped>\n",
       "    .dataframe tbody tr th:only-of-type {\n",
       "        vertical-align: middle;\n",
       "    }\n",
       "\n",
       "    .dataframe tbody tr th {\n",
       "        vertical-align: top;\n",
       "    }\n",
       "\n",
       "    .dataframe thead th {\n",
       "        text-align: right;\n",
       "    }\n",
       "</style>\n",
       "<table border=\"1\" class=\"dataframe\">\n",
       "  <thead>\n",
       "    <tr style=\"text-align: right;\">\n",
       "      <th></th>\n",
       "      <th>babel_lang</th>\n",
       "    </tr>\n",
       "    <tr>\n",
       "      <th>babel_user</th>\n",
       "      <th></th>\n",
       "    </tr>\n",
       "  </thead>\n",
       "  <tbody>\n",
       "    <tr>\n",
       "      <th>30</th>\n",
       "      <td>3</td>\n",
       "    </tr>\n",
       "    <tr>\n",
       "      <th>38</th>\n",
       "      <td>2</td>\n",
       "    </tr>\n",
       "    <tr>\n",
       "      <th>262</th>\n",
       "      <td>3</td>\n",
       "    </tr>\n",
       "    <tr>\n",
       "      <th>267</th>\n",
       "      <td>3</td>\n",
       "    </tr>\n",
       "    <tr>\n",
       "      <th>294</th>\n",
       "      <td>3</td>\n",
       "    </tr>\n",
       "    <tr>\n",
       "      <th>...</th>\n",
       "      <td>...</td>\n",
       "    </tr>\n",
       "    <tr>\n",
       "      <th>6318249</th>\n",
       "      <td>3</td>\n",
       "    </tr>\n",
       "    <tr>\n",
       "      <th>6327193</th>\n",
       "      <td>2</td>\n",
       "    </tr>\n",
       "    <tr>\n",
       "      <th>6327824</th>\n",
       "      <td>6</td>\n",
       "    </tr>\n",
       "    <tr>\n",
       "      <th>6331490</th>\n",
       "      <td>3</td>\n",
       "    </tr>\n",
       "    <tr>\n",
       "      <th>6332447</th>\n",
       "      <td>2</td>\n",
       "    </tr>\n",
       "  </tbody>\n",
       "</table>\n",
       "<p>10780 rows × 1 columns</p>\n",
       "</div>"
      ],
      "text/plain": [
       "            babel_lang\n",
       "babel_user            \n",
       "30                   3\n",
       "38                   2\n",
       "262                  3\n",
       "267                  3\n",
       "294                  3\n",
       "...                ...\n",
       "6318249              3\n",
       "6327193              2\n",
       "6327824              6\n",
       "6331490              3\n",
       "6332447              2\n",
       "\n",
       "[10780 rows x 1 columns]"
      ]
     },
     "execution_count": 15,
     "metadata": {},
     "output_type": "execute_result"
    }
   ],
   "source": [
    "# Agrupo por nombre y cuento sus idiomas.\n",
    "agrupados = lang.groupby('babel_user').agg({'babel_lang':'count'})\n",
    "agrupados"
   ]
  },
  {
   "cell_type": "code",
   "execution_count": 16,
   "metadata": {},
   "outputs": [
    {
     "data": {
      "text/html": [
       "<div>\n",
       "<style scoped>\n",
       "    .dataframe tbody tr th:only-of-type {\n",
       "        vertical-align: middle;\n",
       "    }\n",
       "\n",
       "    .dataframe tbody tr th {\n",
       "        vertical-align: top;\n",
       "    }\n",
       "\n",
       "    .dataframe thead th {\n",
       "        text-align: right;\n",
       "    }\n",
       "</style>\n",
       "<table border=\"1\" class=\"dataframe\">\n",
       "  <thead>\n",
       "    <tr style=\"text-align: right;\">\n",
       "      <th></th>\n",
       "      <th>babel_user</th>\n",
       "      <th>babel_lang</th>\n",
       "    </tr>\n",
       "  </thead>\n",
       "  <tbody>\n",
       "    <tr>\n",
       "      <th>0</th>\n",
       "      <td>3276151</td>\n",
       "      <td>29</td>\n",
       "    </tr>\n",
       "  </tbody>\n",
       "</table>\n",
       "</div>"
      ],
      "text/plain": [
       "   babel_user  babel_lang\n",
       "0     3276151          29"
      ]
     },
     "execution_count": 16,
     "metadata": {},
     "output_type": "execute_result"
    }
   ],
   "source": [
    "# Finalmente filtro el DataFrame para quedarme con la Serie que tiene el valor maximo de babel_lang.\n",
    "agrupados = agrupados[agrupados.babel_lang == agrupados.babel_lang.max()].reset_index()\n",
    "agrupados"
   ]
  },
  {
   "cell_type": "code",
   "execution_count": 17,
   "metadata": {},
   "outputs": [
    {
     "name": "stdout",
     "output_type": "stream",
     "text": [
      "El usuario con mas idiomas de nivel >= 2 es: 3276151 con 29 idiomas\n"
     ]
    }
   ],
   "source": [
    "usuario = agrupados.loc[0,'babel_user']\n",
    "idiomas = agrupados.loc[0,'babel_lang']\n",
    "print(f'El usuario con mas idiomas de nivel >= 2 es: {usuario} con {idiomas} idiomas')"
   ]
  }
 ],
 "metadata": {
  "kernelspec": {
   "display_name": "Python 3",
   "language": "python",
   "name": "python3"
  },
  "language_info": {
   "codemirror_mode": {
    "name": "ipython",
    "version": 3
   },
   "file_extension": ".py",
   "mimetype": "text/x-python",
   "name": "python",
   "nbconvert_exporter": "python",
   "pygments_lexer": "ipython3",
   "version": "3.11.3"
  },
  "orig_nbformat": 4
 },
 "nbformat": 4,
 "nbformat_minor": 2
}
