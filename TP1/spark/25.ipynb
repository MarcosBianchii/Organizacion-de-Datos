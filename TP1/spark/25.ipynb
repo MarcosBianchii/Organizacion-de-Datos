{
 "cells": [
  {
   "attachments": {},
   "cell_type": "markdown",
   "metadata": {},
   "source": [
    "# Obtenga con spark los datos (de forma ya agregada) que le permitan realizar la siguiente visualización y realice la misma (⭐⭐⭐)"
   ]
  },
  {
   "attachments": {},
   "cell_type": "markdown",
   "metadata": {},
   "source": [
    "![VISU](visu_del_ej25.png)"
   ]
  },
  {
   "cell_type": "code",
   "execution_count": 33,
   "metadata": {},
   "outputs": [],
   "source": [
    "import pyspark as sp\n",
    "import matplotlib.pyplot as plt\n",
    "import seaborn as sns\n",
    "import pandas as pd\n",
    "from math import sqrt"
   ]
  },
  {
   "cell_type": "code",
   "execution_count": 34,
   "metadata": {},
   "outputs": [
    {
     "name": "stderr",
     "output_type": "stream",
     "text": [
      "                                                                                \r"
     ]
    }
   ],
   "source": [
    "spark = sp.sql.SparkSession.builder.getOrCreate()\n",
    "sc = spark.sparkContext\n",
    "rdd = spark.read.csv('../data/logs.csv', header=True, inferSchema=True).rdd"
   ]
  },
  {
   "cell_type": "code",
   "execution_count": 35,
   "metadata": {},
   "outputs": [],
   "source": [
    "# [(0, 'item_id'),\n",
    "#  (1, 'timestamp'),\n",
    "#  (2, 'contributor_username'),\n",
    "#  (3, 'contributor_id'),\n",
    "#  (4, 'contributor_ip'),\n",
    "#  (5, 'comment'),\n",
    "#  (6, 'logtype'),\n",
    "#  (7, 'action'),\n",
    "#  (8, 'title')]"
   ]
  },
  {
   "cell_type": "code",
   "execution_count": 36,
   "metadata": {},
   "outputs": [],
   "source": [
    "# Lista de acciones que me interesan.\n",
    "acciones = ['autocreate', 'block', 'create', 'delete', 'move']\n",
    "\n",
    "# Me quedo con los registros que tienen una de estas 5 acciones y son de usuarios registrados.\n",
    "rdd = rdd.filter(lambda x: x[7] in acciones and x[2] and not x[4])"
   ]
  },
  {
   "attachments": {},
   "cell_type": "markdown",
   "metadata": {},
   "source": [
    "### Consigo un rdd con las acciones de cada usuario."
   ]
  },
  {
   "cell_type": "code",
   "execution_count": 37,
   "metadata": {},
   "outputs": [],
   "source": [
    "# i)  Marco la accion que hizo un usuario.\n",
    "# ii) Sumo cuantas veces hizo cada accion.\n",
    "rdd = rdd.map(lambda x: (x[2], (x[7].count('autocreate'), x[7].count('block'), x[7].count('create'), x[7].count('delete'), x[7].count('move'))))\\\n",
    "    .reduceByKey(lambda x,y: (x[0]+y[0], x[1]+y[1], x[2]+y[2], x[3]+y[3], x[4]+y[4]))\\\n",
    "    .cache()\n",
    "\n",
    "# (usuario, cantidad: (autocreate, block, create, delete, move))"
   ]
  },
  {
   "attachments": {},
   "cell_type": "markdown",
   "metadata": {},
   "source": [
    "### Consigo la cantidad de usuarios."
   ]
  },
  {
   "cell_type": "code",
   "execution_count": 38,
   "metadata": {},
   "outputs": [
    {
     "name": "stderr",
     "output_type": "stream",
     "text": [
      "                                                                                \r"
     ]
    },
    {
     "data": {
      "text/plain": [
       "6114024"
      ]
     },
     "execution_count": 38,
     "metadata": {},
     "output_type": "execute_result"
    }
   ],
   "source": [
    "cant_usuarios = rdd.count()\n",
    "cant_usuarios"
   ]
  },
  {
   "attachments": {},
   "cell_type": "markdown",
   "metadata": {},
   "source": [
    "### Consigo el total de acciones."
   ]
  },
  {
   "cell_type": "code",
   "execution_count": 39,
   "metadata": {},
   "outputs": [
    {
     "name": "stderr",
     "output_type": "stream",
     "text": [
      "                                                                                \r"
     ]
    },
    {
     "data": {
      "text/plain": [
       "12263825"
      ]
     },
     "execution_count": 39,
     "metadata": {},
     "output_type": "execute_result"
    }
   ],
   "source": [
    "total_acciones = rdd.map(lambda x: x[1][0]+x[1][1]+x[1][2]+x[1][3]+x[1][4]).sum()\n",
    "total_acciones"
   ]
  },
  {
   "attachments": {},
   "cell_type": "markdown",
   "metadata": {},
   "source": [
    "### Consigo las medias de cada accion."
   ]
  },
  {
   "cell_type": "code",
   "execution_count": 40,
   "metadata": {},
   "outputs": [
    {
     "name": "stderr",
     "output_type": "stream",
     "text": [
      "                                                                                \r"
     ]
    },
    {
     "data": {
      "text/plain": [
       "(0.11161476945401365,\n",
       " 0.02790540471671767,\n",
       " 0.5957320004189528,\n",
       " 0.19487199140561787,\n",
       " 0.0698758340077424)"
      ]
     },
     "execution_count": 40,
     "metadata": {},
     "output_type": "execute_result"
    }
   ],
   "source": [
    "medias = rdd.map(lambda x: (x[1][0]/total_acciones, x[1][1]/total_acciones, x[1][2]/total_acciones, x[1][3]/total_acciones, x[1][4]/total_acciones))\\\n",
    "    .reduce(lambda x,y: (x[0]+y[0], x[1]+y[1], x[2]+y[2], x[3]+y[3], x[4]+y[4]))\n",
    "\n",
    "# medias: (autocreate, block, create, delete, move)\n",
    "medias"
   ]
  },
  {
   "attachments": {},
   "cell_type": "markdown",
   "metadata": {},
   "source": [
    "### Calculo la varianza de cada accion."
   ]
  },
  {
   "cell_type": "code",
   "execution_count": 42,
   "metadata": {},
   "outputs": [],
   "source": [
    "# Me guardo el estado del rdd para usarlo en el calculo de covarianzas.\n",
    "rdd = rdd.map(lambda x: (x[0], (x[1][0]-medias[0], x[1][1]-medias[1], x[1][2]-medias[2], x[1][3]-medias[3], x[1][4]-medias[4])))\\\n",
    "    .cache()"
   ]
  },
  {
   "cell_type": "code",
   "execution_count": 45,
   "metadata": {},
   "outputs": [
    {
     "name": "stderr",
     "output_type": "stream",
     "text": [
      "                                                                                \r"
     ]
    },
    {
     "data": {
      "text/plain": [
       "{'autocreate': 0.17376258911422338,\n",
       " 'block': 481.3340211468227,\n",
       " 'create': 6463.172471449107,\n",
       " 'delete': 17430.469983401104,\n",
       " 'move': 6355.783783281053}"
      ]
     },
     "execution_count": 45,
     "metadata": {},
     "output_type": "execute_result"
    }
   ],
   "source": [
    "varianzas = rdd.map(lambda x: ((acciones[0], (x[1][0]**2)/cant_usuarios),\\\n",
    "                               (acciones[1], (x[1][1]**2)/cant_usuarios),\\\n",
    "                               (acciones[2], (x[1][2]**2)/cant_usuarios),\\\n",
    "                               (acciones[3], (x[1][3]**2)/cant_usuarios),\\\n",
    "                               (acciones[4], (x[1][4]**2)/cant_usuarios)))\n",
    "\n",
    "varianzas = varianzas.reduce(lambda x,y: ((x[0][0], x[0][1]+y[0][1]), (x[1][0], x[1][1]+y[1][1]), (x[2][0], x[2][1]+y[2][1]), (x[3][0], x[3][1]+y[3][1]), (x[4][0], x[4][1]+y[4][1])))\n",
    "\n",
    "varianzas = dict(varianzas)\n",
    "# (accion, varianza)"
   ]
  },
  {
   "attachments": {},
   "cell_type": "markdown",
   "metadata": {},
   "source": [
    "### Transformo el rdd de forma que pueda hacer el producto cartesiano entre cada accion en cada usuario."
   ]
  },
  {
   "cell_type": "code",
   "execution_count": 13,
   "metadata": {},
   "outputs": [],
   "source": [
    "# Reparto cada registro del rdd en 5, uno por cada accion de cada usuario.\n",
    "rdd = rdd.flatMap(lambda x: ((x[0], (acciones[0], x[1][0])),\\\n",
    "                             (x[0], (acciones[1], x[1][1])),\\\n",
    "                             (x[0], (acciones[2], x[1][2])),\\\n",
    "                             (x[0], (acciones[3], x[1][3])),\\\n",
    "                             (x[0], (acciones[4], x[1][4]))))\n",
    "\n",
    "# (usuario, (accion, valor-su media))"
   ]
  },
  {
   "attachments": {},
   "cell_type": "markdown",
   "metadata": {},
   "source": [
    "### Calculo la covarianza entre cada par de acciones."
   ]
  },
  {
   "cell_type": "code",
   "execution_count": 14,
   "metadata": {},
   "outputs": [
    {
     "name": "stderr",
     "output_type": "stream",
     "text": [
      "                                                                                \r"
     ]
    }
   ],
   "source": [
    "rdd = rdd.join(rdd)\n",
    "# (usuario, ((accion1, valor1-su media), (accion2, valor2-su media)))\n",
    "\n",
    "covarianzas = rdd.map(lambda x: ((x[1][0][0], x[1][1][0]), x[1][0][1]*x[1][1][1]))\\\n",
    "    .reduceByKey(lambda x,y: x+y)\\\n",
    "    .map(lambda x: (x[0], x[1]/cant_usuarios))\\\n",
    "    .takeOrdered(25, key=lambda x: acciones.index(x[0][0])*5 + acciones.index(x[0][1]))\n",
    "    # Son en total 25 registros, por eso el takeOrdered(),\n",
    "    # lo necesito ordenado para poder pasarlo a DF.\n",
    "\n",
    "# ((accion1, accion2), covarianza)"
   ]
  },
  {
   "attachments": {},
   "cell_type": "markdown",
   "metadata": {},
   "source": [
    "### Broadcasteo varianzas"
   ]
  },
  {
   "cell_type": "code",
   "execution_count": 15,
   "metadata": {},
   "outputs": [],
   "source": [
    "varianzasBC = sc.broadcast(varianzas)"
   ]
  },
  {
   "attachments": {},
   "cell_type": "markdown",
   "metadata": {},
   "source": [
    "### Calculo la correlacion entre las acciones."
   ]
  },
  {
   "cell_type": "code",
   "execution_count": 16,
   "metadata": {},
   "outputs": [],
   "source": [
    "correlaciones = sc.parallelize(covarianzas)\\\n",
    "    .map(lambda x: x[1]/sqrt(varianzasBC.value[x[0][0]]*varianzasBC.value[x[0][1]]))\\\n",
    "    .collect()"
   ]
  },
  {
   "attachments": {},
   "cell_type": "markdown",
   "metadata": {},
   "source": [
    "### Paso la lista a matriz."
   ]
  },
  {
   "cell_type": "code",
   "execution_count": 17,
   "metadata": {},
   "outputs": [],
   "source": [
    "matriz = list(correlaciones[i:i+5] for i in range(0,25,5))"
   ]
  },
  {
   "attachments": {},
   "cell_type": "markdown",
   "metadata": {},
   "source": [
    "### Paso la matriz a DataFrame de Pandas."
   ]
  },
  {
   "cell_type": "code",
   "execution_count": 18,
   "metadata": {},
   "outputs": [
    {
     "data": {
      "text/html": [
       "<div>\n",
       "<style scoped>\n",
       "    .dataframe tbody tr th:only-of-type {\n",
       "        vertical-align: middle;\n",
       "    }\n",
       "\n",
       "    .dataframe tbody tr th {\n",
       "        vertical-align: top;\n",
       "    }\n",
       "\n",
       "    .dataframe thead th {\n",
       "        text-align: right;\n",
       "    }\n",
       "</style>\n",
       "<table border=\"1\" class=\"dataframe\">\n",
       "  <thead>\n",
       "    <tr style=\"text-align: right;\">\n",
       "      <th></th>\n",
       "      <th>autocreate</th>\n",
       "      <th>block</th>\n",
       "      <th>create</th>\n",
       "      <th>delete</th>\n",
       "      <th>move</th>\n",
       "    </tr>\n",
       "  </thead>\n",
       "  <tbody>\n",
       "    <tr>\n",
       "      <th>autocreate</th>\n",
       "      <td>1.000000</td>\n",
       "      <td>-0.000800</td>\n",
       "      <td>0.002007</td>\n",
       "      <td>-0.000964</td>\n",
       "      <td>0.000500</td>\n",
       "    </tr>\n",
       "    <tr>\n",
       "      <th>block</th>\n",
       "      <td>-0.000800</td>\n",
       "      <td>1.000000</td>\n",
       "      <td>0.048896</td>\n",
       "      <td>0.694568</td>\n",
       "      <td>0.052414</td>\n",
       "    </tr>\n",
       "    <tr>\n",
       "      <th>create</th>\n",
       "      <td>0.002007</td>\n",
       "      <td>0.048896</td>\n",
       "      <td>1.000000</td>\n",
       "      <td>0.070208</td>\n",
       "      <td>0.013665</td>\n",
       "    </tr>\n",
       "    <tr>\n",
       "      <th>delete</th>\n",
       "      <td>-0.000964</td>\n",
       "      <td>0.694568</td>\n",
       "      <td>0.070208</td>\n",
       "      <td>1.000000</td>\n",
       "      <td>0.083471</td>\n",
       "    </tr>\n",
       "    <tr>\n",
       "      <th>move</th>\n",
       "      <td>0.000500</td>\n",
       "      <td>0.052414</td>\n",
       "      <td>0.013665</td>\n",
       "      <td>0.083471</td>\n",
       "      <td>1.000000</td>\n",
       "    </tr>\n",
       "  </tbody>\n",
       "</table>\n",
       "</div>"
      ],
      "text/plain": [
       "            autocreate     block    create    delete      move\n",
       "autocreate    1.000000 -0.000800  0.002007 -0.000964  0.000500\n",
       "block        -0.000800  1.000000  0.048896  0.694568  0.052414\n",
       "create        0.002007  0.048896  1.000000  0.070208  0.013665\n",
       "delete       -0.000964  0.694568  0.070208  1.000000  0.083471\n",
       "move          0.000500  0.052414  0.013665  0.083471  1.000000"
      ]
     },
     "execution_count": 18,
     "metadata": {},
     "output_type": "execute_result"
    }
   ],
   "source": [
    "df = pd.DataFrame(matriz, index=acciones, columns=acciones)\n",
    "df"
   ]
  },
  {
   "cell_type": "code",
   "execution_count": 19,
   "metadata": {},
   "outputs": [
    {
     "data": {
      "text/plain": [
       "(array([0.5, 1.5, 2.5, 3.5, 4.5]),\n",
       " [Text(0, 0.5, 'autocreate'),\n",
       "  Text(0, 1.5, 'block'),\n",
       "  Text(0, 2.5, 'create'),\n",
       "  Text(0, 3.5, 'delete'),\n",
       "  Text(0, 4.5, 'move')])"
      ]
     },
     "execution_count": 19,
     "metadata": {},
     "output_type": "execute_result"
    },
    {
     "data": {
      "image/png": "[encoded data removed]",
      "text/plain": [
       "<Figure size 576x432 with 2 Axes>"
      ]
     },
     "metadata": {},
     "output_type": "display_data"
    }
   ],
   "source": [
    "plt.figure(dpi=90)\n",
    "sns.heatmap(df)\n",
    "plt.title('Correlación entre acciones\\n para usuarios registrados')\n",
    "plt.xlabel('action')\n",
    "plt.ylabel('action')\n",
    "plt.tight_layout(w_pad=200)\n",
    "plt.yticks(rotation=0)"
   ]
  }
 ],
 "metadata": {
  "kernelspec": {
   "display_name": "Python 3",
   "language": "python",
   "name": "python3"
  },
  "language_info": {
   "codemirror_mode": {
    "name": "ipython",
    "version": 3
   },
   "file_extension": ".py",
   "mimetype": "text/x-python",
   "name": "python",
   "nbconvert_exporter": "python",
   "pygments_lexer": "ipython3",
   "version": "3.11.3"
  },
  "orig_nbformat": 4
 },
 "nbformat": 4,
 "nbformat_minor": 2
}
