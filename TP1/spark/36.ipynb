{
 "cells": [
  {
   "attachments": {},
   "cell_type": "markdown",
   "metadata": {},
   "source": [
    "# La 3-upla de palabras más común en los comentarios de los logs (⭐⭐)"
   ]
  },
  {
   "cell_type": "code",
   "execution_count": 2,
   "metadata": {},
   "outputs": [],
   "source": [
    "import pyspark as sp\n",
    "import nltk\n",
    "import re"
   ]
  },
  {
   "cell_type": "code",
   "execution_count": null,
   "metadata": {},
   "outputs": [],
   "source": [
    "spark = sp.sql.SparkSession.builder.getOrCreate()\n",
    "rdd = spark.read.csv('../data/logs.csv', header=True, inferSchema=True).rdd"
   ]
  },
  {
   "cell_type": "code",
   "execution_count": 4,
   "metadata": {},
   "outputs": [],
   "source": [
    "# [(0, 'item_id'),\n",
    "#  (1, 'timestamp'),\n",
    "#  (2, 'contributor_username'),\n",
    "#  (3, 'contributor_id'),\n",
    "#  (4, 'contributor_ip'),\n",
    "#  (5, 'comment'),\n",
    "#  (6, 'logtype'),\n",
    "#  (7, 'action'),\n",
    "#  (8, 'title')]"
   ]
  },
  {
   "cell_type": "code",
   "execution_count": 6,
   "metadata": {},
   "outputs": [
    {
     "name": "stderr",
     "output_type": "stream",
     "text": [
      "                                                                                \r"
     ]
    },
    {
     "data": {
      "text/plain": [
       "(('el', 'contenido', 'era'), 1134016)"
      ]
     },
     "execution_count": 6,
     "metadata": {},
     "output_type": "execute_result"
    }
   ],
   "source": [
    "# i)   Me quedo solo con los comentarios que no son nulos y les saco la puntuacion.\n",
    "# ii)  Tokenizo y me quedo con las 3-uplas.\n",
    "# iii) Paso los registros a pares (3-upla, 1).\n",
    "# iv)  Sumo los valores de cada trigrama.\n",
    "# v)   Me quedo con la 3-upla mas comun.\n",
    "rdd.filter(lambda x: x[5]).map(lambda x: re.sub(r'[^\\w\\s]',' ', x[5]))\\\n",
    "    .flatMap(lambda x: nltk.trigrams(nltk.word_tokenize(x)))\\\n",
    "    .map(lambda x: (x, 1))\\\n",
    "    .reduceByKey(lambda x,y: x+y)\\\n",
    "    .reduce(lambda x,y: x if x[1] > y[1] else y)\n"
   ]
  }
 ],
 "metadata": {
  "kernelspec": {
   "display_name": "Python 3",
   "language": "python",
   "name": "python3"
  },
  "language_info": {
   "codemirror_mode": {
    "name": "ipython",
    "version": 3
   },
   "file_extension": ".py",
   "mimetype": "text/x-python",
   "name": "python",
   "nbconvert_exporter": "python",
   "pygments_lexer": "ipython3",
   "version": "3.11.3"
  },
  "orig_nbformat": 4
 },
 "nbformat": 4,
 "nbformat_minor": 2
}
