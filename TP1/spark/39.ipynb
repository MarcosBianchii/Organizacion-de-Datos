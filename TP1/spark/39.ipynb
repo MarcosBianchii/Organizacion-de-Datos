{
 "cells": [
  {
   "attachments": {},
   "cell_type": "markdown",
   "metadata": {},
   "source": [
    "# ¿Cuál es la acción más realizada por usuarios que no están registrados? (⭐⭐)"
   ]
  },
  {
   "cell_type": "code",
   "execution_count": 5,
   "metadata": {},
   "outputs": [],
   "source": [
    "import pyspark as sp"
   ]
  },
  {
   "cell_type": "code",
   "execution_count": null,
   "metadata": {},
   "outputs": [],
   "source": [
    "spark = sp.sql.SparkSession.builder.getOrCreate()\n",
    "rdd = spark.read.csv('../data/logs.csv', header=True, inferSchema=True).rdd"
   ]
  },
  {
   "cell_type": "code",
   "execution_count": 7,
   "metadata": {},
   "outputs": [],
   "source": [
    "# [(0, 'item_id'),\n",
    "#  (1, 'timestamp'),\n",
    "#  (2, 'contributor_username'),\n",
    "#  (3, 'contributor_id'),\n",
    "#  (4, 'contributor_ip'),\n",
    "#  (5, 'comment'),\n",
    "#  (6, 'logtype'),\n",
    "#  (7, 'action'),\n",
    "#  (8, 'title')]"
   ]
  },
  {
   "cell_type": "code",
   "execution_count": 8,
   "metadata": {},
   "outputs": [
    {
     "name": "stderr",
     "output_type": "stream",
     "text": [
      "                                                                                \r"
     ]
    },
    {
     "data": {
      "text/plain": [
       "('create', 123293)"
      ]
     },
     "execution_count": 8,
     "metadata": {},
     "output_type": "execute_result"
    }
   ],
   "source": [
    "# i)   Me quedo con los registros que no tienen username pero si ip (tambien filtro la accion None).\n",
    "# ii)  Transformo los registros a pares (accion, 1).\n",
    "# iii) Contabilizo las acciones.\n",
    "# iv)  Me quedo con la accion que mas se repite.\n",
    "rdd.filter(lambda x: not x[2] and x[4] and x[7])\\\n",
    "    .map(lambda x: (x[7], 1))\\\n",
    "    .reduceByKey(lambda x,y: x+y)\\\n",
    "    .reduce(lambda x,y: x if x[1] > y[1] else y)\n"
   ]
  }
 ],
 "metadata": {
  "kernelspec": {
   "display_name": "Python 3",
   "language": "python",
   "name": "python3"
  },
  "language_info": {
   "codemirror_mode": {
    "name": "ipython",
    "version": 3
   },
   "file_extension": ".py",
   "mimetype": "text/x-python",
   "name": "python",
   "nbconvert_exporter": "python",
   "pygments_lexer": "ipython3",
   "version": "3.11.3"
  },
  "orig_nbformat": 4
 },
 "nbformat": 4,
 "nbformat_minor": 2
}
