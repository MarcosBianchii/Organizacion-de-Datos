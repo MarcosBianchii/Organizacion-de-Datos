{
 "cells": [
  {
   "attachments": {},
   "cell_type": "markdown",
   "metadata": {},
   "source": [
    "# Machine Learning\n",
    "---\n",
    "\n",
    "Entrenar un nuevo modelo (que no sea Random Forest ni el utilizado para el baseline) con búsqueda de hiperparametros (¿cómo conviene elegir los datos de validación respecto de los de train?). El modelo debe cumplir las siguientes condiciones:\n",
    "\n",
    "* Deben utilizar AUC-ROC como métrica de validación.\n",
    "* Deben medirse solo en validación, no contra test!!!\n",
    "* Deben ser reproducibles (correr el notebook varias veces no afecta al resultado).\n",
    "* Deben tener un score en validación superior a 0,9.\n",
    "* Para el feature engineering debe utilizarse imputación de nulos, mean encoding y one hot encoding al menos una vez cada uno.\n",
    "* Deben utilizar al menos 40 features (contando cómo features columnas con números, pueden venir varios de la misma variable).\n",
    "* Deberán contestar la siguientes preguntas:\n",
    "    - ¿Cuál es el score en test? (guardar el csv con predicciones para entregarlo después)\n",
    "    - ¿Por qué cree que logro/no logro el mismo valor de AUC que con Random Forest?"
   ]
  },
  {
   "cell_type": "code",
   "execution_count": null,
   "metadata": {},
   "outputs": [],
   "source": []
  }
 ],
 "metadata": {
  "language_info": {
   "name": "python"
  },
  "orig_nbformat": 4
 },
 "nbformat": 4,
 "nbformat_minor": 2
}
