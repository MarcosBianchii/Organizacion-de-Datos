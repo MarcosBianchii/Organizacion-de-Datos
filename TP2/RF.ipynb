{
 "cells": [
  {
   "attachments": {},
   "cell_type": "markdown",
   "metadata": {},
   "source": [
    "# Random Forest\n",
    "---\n",
    "\n",
    "Segun el paper con un clasificador basado en Random Forest deberiamos lograr un AUC de 1. Entrenar un Random Forest con búsqueda de hiperparametros que logre un AUC de 1 (¿cómo conviene elegir los datos de validación respecto de los de train?). El modelo debe cumplir las siguientes condiciones:\n",
    "\n",
    "* Deben utilizar AUC-ROC como métrica de validación.\n",
    "* Deben medirse solo en validación, no contra test!!!\n",
    "* Deben ser reproducibles (correr el notebook varias veces no afecta al resultado).\n",
    "* Deben tener un score en validación igual a 1."
   ]
  },
  {
   "cell_type": "code",
   "execution_count": null,
   "metadata": {},
   "outputs": [],
   "source": []
  }
 ],
 "metadata": {
  "language_info": {
   "name": "python"
  },
  "orig_nbformat": 4
 },
 "nbformat": 4,
 "nbformat_minor": 2
}
